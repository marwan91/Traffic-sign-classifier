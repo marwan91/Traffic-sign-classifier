{
 "cells": [
  {
   "cell_type": "markdown",
   "metadata": {},
   "source": [
    "# Self-Driving Car Engineer Nanodegree\n",
    "\n",
    "## Deep Learning\n",
    "\n",
    "## Project: Build a Traffic Sign Recognition Classifier\n",
    "\n"
   ]
  },
  {
   "cell_type": "markdown",
   "metadata": {},
   "source": [
    "---\n",
    "## Step 0: Load The Data"
   ]
  },
  {
   "cell_type": "code",
   "execution_count": 4,
   "metadata": {},
   "outputs": [
    {
     "name": "stdout",
     "output_type": "stream",
     "text": [
      "finished\n"
     ]
    }
   ],
   "source": [
    "# Load pickled data\n",
    "import pickle\n",
    "\n",
    "# TODO: Fill this in based on where you saved the training and testing data\n",
    "\n",
    "training_file = 'train.p'\n",
    "validation_file='valid.p'\n",
    "testing_file = 'test.p'\n",
    "\n",
    "with open(training_file, mode='rb') as f:\n",
    "    train = pickle.load(f)\n",
    "with open(validation_file, mode='rb') as f:\n",
    "    valid = pickle.load(f)\n",
    "with open(testing_file, mode='rb') as f:\n",
    "    test = pickle.load(f)\n",
    "    \n",
    "X_train, y_train = train['features'], train['labels']\n",
    "X_valid, y_valid = valid['features'], valid['labels']\n",
    "X_test, y_test = test['features'], test['labels']\n",
    "\n",
    "print('finished')"
   ]
  },
  {
   "cell_type": "markdown",
   "metadata": {},
   "source": [
    "---\n",
    "\n",
    "## Step 1: Dataset Summary & Exploration\n",
    "\n",
    "The pickled data is a dictionary with 4 key/value pairs:\n",
    "\n",
    "- `'features'` is a 4D array containing raw pixel data of the traffic sign images, (num examples, width, height, channels).\n",
    "- `'labels'` is a 1D array containing the label/class id of the traffic sign. The file `signnames.csv` contains id -> name mappings for each id.\n",
    "- `'sizes'` is a list containing tuples, (width, height) representing the original width and height the image.\n",
    "- `'coords'` is a list containing tuples, (x1, y1, x2, y2) representing coordinates of a bounding box around the sign in the image. **THESE COORDINATES ASSUME THE ORIGINAL IMAGE. THE PICKLED DATA CONTAINS RESIZED VERSIONS (32 by 32) OF THESE IMAGES**\n",
    "\n",
    "Complete the basic data summary below. Use python, numpy and/or pandas methods to calculate the data summary rather than hard coding the results. For example, the [pandas shape method](http://pandas.pydata.org/pandas-docs/stable/generated/pandas.DataFrame.shape.html) might be useful for calculating some of the summary results. "
   ]
  },
  {
   "cell_type": "markdown",
   "metadata": {},
   "source": [
    "### Provide a Basic Summary of the Data Set Using Python, Numpy and/or Pandas"
   ]
  },
  {
   "cell_type": "code",
   "execution_count": 6,
   "metadata": {},
   "outputs": [
    {
     "name": "stdout",
     "output_type": "stream",
     "text": [
      "Number of training examples = 34799\n",
      "Number of testing examples = 12630\n",
      "Number of validation examples  4410\n",
      "Image data shape = (32, 32, 3)\n",
      "Number of classes = 43\n"
     ]
    }
   ],
   "source": [
    "\n",
    "# TODO: Number of training examples\n",
    "n_train = X_train.shape[0]\n",
    "\n",
    "# TODO: Number of validation examples\n",
    "n_validation = X_valid.shape[0]\n",
    "\n",
    "# TODO: Number of testing examples.\n",
    "n_test = X_test.shape[0]\n",
    "\n",
    "# TODO: What's the shape of an traffic sign image?\n",
    "image_shape = X_train[0].shape\n",
    "\n",
    "# TODO: How many unique classes/labels there are in the dataset.\n",
    "n_classes = len(set(y_train))\n",
    "\n",
    "print(\"Number of training examples =\", n_train)\n",
    "print(\"Number of testing examples =\", n_test)\n",
    "print(\"Number of validation examples \",n_validation)\n",
    "print(\"Image data shape =\", image_shape)\n",
    "print(\"Number of classes =\", n_classes)"
   ]
  },
  {
   "cell_type": "markdown",
   "metadata": {},
   "source": [
    "### Include an exploratory visualization of the dataset"
   ]
  },
  {
   "cell_type": "code",
   "execution_count": 3,
   "metadata": {},
   "outputs": [
    {
     "name": "stdout",
     "output_type": "stream",
     "text": [
      "Image Dimensions:  (32, 32, 3)\n"
     ]
    },
    {
     "data": {
      "text/plain": [
       "<matplotlib.image.AxesImage at 0x20d303b94e0>"
      ]
     },
     "execution_count": 3,
     "metadata": {},
     "output_type": "execute_result"
    },
    {
     "data": {
      "image/png": "[encoded data removed]",
      "text/plain": [
       "<matplotlib.figure.Figure at 0x20d2d76a5f8>"
      ]
     },
     "metadata": {},
     "output_type": "display_data"
    }
   ],
   "source": [
    "\n",
    "import matplotlib.pyplot as plt\n",
    "import cv2\n",
    "import numpy as np\n",
    "%matplotlib inline\n",
    "\n",
    "\n",
    "print('Image Dimensions: ',X_train[1500].shape)\n",
    "plt.imshow(np.hstack((X_train[14800], X_train[1500], X_train[2500], X_train[3500] ) ))\n"
   ]
  },
  {
   "cell_type": "markdown",
   "metadata": {},
   "source": [
    "----\n",
    "\n",
    "## Step 2: Design and Test a Model Architecture\n",
    "\n"
   ]
  },
  {
   "cell_type": "markdown",
   "metadata": {},
   "source": [
    "### Pre-process the Data Set (normalization, grayscale, etc.)"
   ]
  },
  {
   "cell_type": "markdown",
   "metadata": {},
   "source": [
    "Minimally, the image data should be normalized so that the data has mean zero and equal variance. For image data, `(pixel - 128)/ 128` is a quick way to approximately normalize the data and can be used in this project. \n",
    "\n",
    "Other pre-processing steps are optional. You can try different techniques to see if it improves performance. \n",
    "\n",
    "Use the code cell (or multiple code cells, if necessary) to implement the first step of your project."
   ]
  },
  {
   "cell_type": "code",
   "execution_count": 4,
   "metadata": {},
   "outputs": [
    {
     "name": "stdout",
     "output_type": "stream",
     "text": [
      "finished\n"
     ]
    }
   ],
   "source": [
    "\n",
    "\n",
    "for i in range(X_train.shape[0]):\n",
    "    image = np.zeros((32,32,3) )\n",
    "    image[:,:,0]=cv2.equalizeHist(X_train[i,:,:,0])\n",
    "    image[:,:,1]=cv2.equalizeHist(X_train[i,:,:,1])\n",
    "    image[:,:,2]=cv2.equalizeHist(X_train[i,:,:,2])\n",
    "    X_train[i,:,:,:]=image\n",
    "\n",
    "for i in range(X_valid.shape[0]):\n",
    "    image = np.zeros((32,32,3))\n",
    "    image[:,:,0]=cv2.equalizeHist(X_valid[i,:,:,0])\n",
    "    image[:,:,1]=cv2.equalizeHist(X_valid[i,:,:,1])\n",
    "    image[:,:,2]=cv2.equalizeHist(X_valid[i,:,:,2])\n",
    "    X_valid[i,:,:,:]=image\n",
    "    \n",
    "for i in range(X_test.shape[0]):\n",
    "    image = np.zeros((32,32,3))\n",
    "    image[:,:,0]=cv2.equalizeHist(X_test[i,:,:,0])\n",
    "    image[:,:,1]=cv2.equalizeHist(X_test[i,:,:,1])\n",
    "    image[:,:,2]=cv2.equalizeHist(X_test[i,:,:,2])\n",
    "    X_test[i,:,:,:]=image\n",
    "    \n",
    "    \n",
    "X_train = np.asfarray(X_train, dtype='float32')\n",
    "X_valid = np.asfarray(X_valid, dtype='float32')\n",
    "X_test = np.asfarray(X_test, dtype='float32')\n",
    "\n",
    "for i in range(X_train.shape[0]):\n",
    "    X_train[i,:,:,:]=(X_train[i,:,:,:]-128)/128\n",
    "for i in range(X_valid.shape[0]):\n",
    "    X_valid[i,:,:,:]=(X_valid[i,:,:,:]-128)/128\n",
    "for i in range(X_test.shape[0]):\n",
    "    X_test[i,:,:,:]=(X_test[i,:,:,:]-128)/128\n",
    "\n",
    "\n",
    "print('finished')\n",
    "\n"
   ]
  },
  {
   "cell_type": "markdown",
   "metadata": {},
   "source": [
    "### Model Architecture"
   ]
  },
  {
   "cell_type": "code",
   "execution_count": 5,
   "metadata": {
    "collapsed": true
   },
   "outputs": [],
   "source": [
    "\n",
    "import tensorflow as tf\n",
    "from tensorflow.contrib.layers import flatten\n",
    "from sklearn.utils import shuffle\n",
    "EPOCHS = 12\n",
    "BATCH_SIZE = 128\n",
    "\n",
    "def LeNet(x):    \n",
    "    # Arguments used for tf.truncated_normal, randomly defines variables for the weights and biases for each layer\n",
    "    mu = 0\n",
    "    sigma = 0.1\n",
    "    W1= tf.Variable(tf.truncated_normal([5,5,3,9],mean=mu,stddev=sigma,dtype=tf.float32,seed=None,name=None))\n",
    "    b1= tf.Variable(tf.zeros(9))\n",
    "    \n",
    "    W2= tf.Variable(tf.truncated_normal([5,5,9,16],mean=mu,stddev=sigma,dtype=tf.float32,seed=None,name=None))\n",
    "    b2= tf.Variable(tf.zeros(16))\n",
    "    \n",
    "    w3= tf.Variable(tf.truncated_normal([400,120],mean=mu,stddev=sigma,dtype=tf.float32,seed=None,name=None))\n",
    "    b3= tf.Variable(tf.zeros(120))\n",
    "    \n",
    "    w4= tf.Variable(tf.truncated_normal([120,84],mean=mu,stddev=sigma,dtype=tf.float32,seed=None,name=None))\n",
    "    b4= tf.Variable(tf.zeros(84))\n",
    "    \n",
    "    w5= tf.Variable(tf.truncated_normal([84,43],mean=mu,stddev=sigma,dtype=tf.float32,seed=None,name=None))\n",
    "    b5= tf.Variable(tf.zeros(43))\n",
    "   \n",
    "    # TODO: Layer 1: Convolutional. Input = 32x32x3. Output = 25x25x9.\n",
    "    conv1 = tf.nn.conv2d(x,W1,strides=[1,1,1,1],padding='VALID')\n",
    "    conv1 = tf.nn.bias_add(conv1,b1)\n",
    "    # TODO: Activation.\n",
    "    conv1=tf.nn.relu(conv1)\n",
    "    # TODO: Pooling. Input = 25x25x9. Output = 11x11x9.\n",
    "    p1 = tf.nn.max_pool(conv1,ksize=[1,2,2,1],strides=[1,2,2,1],padding='VALID')\n",
    "    # TODO: Layer 2: Convolutional. Output = 7x7x16.\n",
    "    conv2 = tf.nn.conv2d(p1,W2,strides=[1,1,1,1],padding='VALID')\n",
    "    conv2 = tf.nn.bias_add(conv2,b2)\n",
    "    # TODO: Activation.\n",
    "    conv2=tf.nn.relu(conv2)\n",
    "    # TODO: Pooling. Input = 7x7x16. Output = 4x4x16.\n",
    "    p2 = tf.nn.max_pool(conv2,ksize=[1,2,2,1],strides=[1,2,2,1],padding='VALID')\n",
    "    # TODO: Flatten. Input = 5x5x16. Output =256.\n",
    "    flat = flatten(p2)\n",
    "    # TODO: Layer 3: Fully Connected. Input = 192. Output = 120.\n",
    "    fc1 = tf.add(tf.matmul(flat,w3),b3)\n",
    "    # TODO: Activation.\n",
    "    fc1 = tf.nn.relu(fc1)\n",
    "    #fc1 = tf.nn.dropout(fc1, keep_prob=0.5)\n",
    "    # TODO: Layer 4: Fully Connected. Input = 120. Output = 84.\n",
    "    fc2 = tf.add(tf.matmul(fc1,w4),b4)\n",
    "    # TODO: Activation.\n",
    "    fc2 = tf.nn.relu(fc2)\n",
    "    # TODO: Layer 5: Fully Connected. Input = 84. Output = 43.\n",
    "    logits = tf.add(tf.matmul(fc2,w5),b5)\n",
    "    return logits\n",
    "\n",
    "x = tf.placeholder(tf.float32,(None,32,32,3))\n",
    "y = tf.placeholder(tf.int32, (None))\n",
    "one_hot_y = tf.one_hot(y, 43)\n",
    "\n",
    "logits =LeNet(x)\n",
    "cross_entropy = tf.nn.softmax_cross_entropy_with_logits(labels=one_hot_y,logits=logits)\n",
    "loss = tf.reduce_mean(cross_entropy)\n",
    "optimizer = tf.train.AdamOptimizer(learning_rate=0.001)\n",
    "training_operation = optimizer.minimize(loss)\n",
    "\n",
    "correct_prediction = tf.equal(tf.argmax(logits, 1), tf.argmax(one_hot_y, 1))\n",
    "accuracy_operation = tf.reduce_mean(tf.cast(correct_prediction, tf.float32))\n",
    "saver = tf.train.Saver()\n",
    "\n",
    "def evaluate(X_data, y_data):\n",
    "    num_examples = len(X_data)\n",
    "    total_accuracy = 0\n",
    "    sess = tf.get_default_session()\n",
    "    for offset in range(0, num_examples, BATCH_SIZE):\n",
    "        batch_x, batch_y = X_data[offset:offset+BATCH_SIZE], y_data[offset:offset+BATCH_SIZE]\n",
    "        accuracy = sess.run(accuracy_operation, feed_dict={x: batch_x, y: batch_y})\n",
    "        total_accuracy += (accuracy * len(batch_x))\n",
    "    return total_accuracy / num_examples"
   ]
  },
  {
   "cell_type": "markdown",
   "metadata": {},
   "source": [
    "### Train, Validate and Test the Model"
   ]
  },
  {
   "cell_type": "markdown",
   "metadata": {},
   "source": [
    "A validation set can be used to assess how well the model is performing. A low accuracy on the training and validation\n",
    "sets imply underfitting. A high accuracy on the training set but low accuracy on the validation set implies overfitting."
   ]
  },
  {
   "cell_type": "code",
   "execution_count": 6,
   "metadata": {},
   "outputs": [
    {
     "name": "stdout",
     "output_type": "stream",
     "text": [
      "Training...\n",
      "\n",
      "EPOCH 1 ...\n",
      "Validation Accuracy = 0.815\n",
      "\n",
      "EPOCH 2 ...\n",
      "Validation Accuracy = 0.889\n",
      "\n",
      "EPOCH 3 ...\n",
      "Validation Accuracy = 0.919\n",
      "\n",
      "EPOCH 4 ...\n",
      "Validation Accuracy = 0.921\n",
      "\n",
      "EPOCH 5 ...\n",
      "Validation Accuracy = 0.912\n",
      "\n",
      "EPOCH 6 ...\n",
      "Validation Accuracy = 0.930\n",
      "\n",
      "EPOCH 7 ...\n",
      "Validation Accuracy = 0.934\n",
      "\n",
      "EPOCH 8 ...\n",
      "Validation Accuracy = 0.934\n",
      "\n",
      "EPOCH 9 ...\n",
      "Validation Accuracy = 0.940\n",
      "\n",
      "EPOCH 10 ...\n",
      "Validation Accuracy = 0.943\n",
      "\n",
      "EPOCH 11 ...\n",
      "Validation Accuracy = 0.937\n",
      "\n",
      "EPOCH 12 ...\n",
      "Validation Accuracy = 0.936\n",
      "\n",
      "Model saved\n",
      "Test Accuracy = 0.925\n"
     ]
    }
   ],
   "source": [
    "\n",
    "with tf.Session() as sess:\n",
    "    sess.run(tf.global_variables_initializer())\n",
    "    num_examples = len(X_train)\n",
    "    \n",
    "    print(\"Training...\")\n",
    "    print()\n",
    "    for i in range(EPOCHS):\n",
    "        X_train, y_train = shuffle(X_train, y_train)\n",
    "        for offset in range(0, num_examples, BATCH_SIZE):\n",
    "            end = offset + BATCH_SIZE\n",
    "            batch_x, batch_y = X_train[offset:end], y_train[offset:end]\n",
    "            sess.run(training_operation, feed_dict={x: batch_x, y: batch_y})\n",
    "            \n",
    "        validation_accuracy = evaluate(X_valid, y_valid)\n",
    "        print(\"EPOCH {} ...\".format(i+1))\n",
    "        print(\"Validation Accuracy = {:.3f}\".format(validation_accuracy))\n",
    "        print()\n",
    "        \n",
    "    saver.save(sess, './mysession')\n",
    "    print(\"Model saved\")\n",
    "    test_accuracy = evaluate(X_test, y_test)\n",
    "    print(\"Test Accuracy = {:.3f}\".format(test_accuracy))\n",
    "\n",
    "\n"
   ]
  },
  {
   "cell_type": "markdown",
   "metadata": {},
   "source": [
    "---\n",
    "\n",
    "## Step 3: Test a Model on New Images\n",
    "\n",
    "To give yourself more insight into how your model is working, download at least five pictures of German traffic signs from the web and use your model to predict the traffic sign type.\n",
    "\n",
    "You may find `signnames.csv` useful as it contains mappings from the class id (integer) to the actual sign name."
   ]
  },
  {
   "cell_type": "markdown",
   "metadata": {},
   "source": [
    "### Load and Output the Images"
   ]
  },
  {
   "cell_type": "code",
   "execution_count": 6,
   "metadata": {},
   "outputs": [
    {
     "data": {
      "text/plain": [
       "<matplotlib.image.AxesImage at 0x1d0e0ab6c18>"
      ]
     },
     "execution_count": 6,
     "metadata": {},
     "output_type": "execute_result"
    },
    {
     "data": {
      "image/png": "[encoded data removed]",
      "text/plain": [
       "<matplotlib.figure.Figure at 0x1d0e0766908>"
      ]
     },
     "metadata": {},
     "output_type": "display_data"
    }
   ],
   "source": [
    "\n",
    "import matplotlib.image as mpimg\n",
    "img1 = np.asfarray(mpimg.imread('new_test_images/1.jpg'), dtype='float32')\n",
    "img3 = np.asfarray(mpimg.imread('new_test_images/3.jpg'), dtype='float32')\n",
    "img11 = np.asfarray(mpimg.imread('new_test_images/11.jpg'), dtype='float32')\n",
    "img35 = np.asfarray(mpimg.imread('new_test_images/35.jpg'), dtype='float32')\n",
    "img38 = np.asfarray(mpimg.imread('new_test_images/38.jpg'), dtype='float32')\n",
    "\n",
    "\n",
    "\n",
    "all_images = np.hstack((img1,img3,img11,img35,img38))\n",
    "\n",
    "img1=(img1-128)/128\n",
    "img3=(img3-128)/128\n",
    "img11=(img11-128)/128\n",
    "img35=(img35-128)/128\n",
    "img38=(img38-128)/128\n",
    "\n",
    "new_X_test = [img1,img3,img11,img35,img38]\n",
    "new_y_test=[1,3,11,35,38]\n",
    "\n",
    "\n",
    "\n",
    "plt.imshow(all_images)\n",
    "\n"
   ]
  },
  {
   "cell_type": "markdown",
   "metadata": {},
   "source": [
    "### Predict the Sign Type for Each Image"
   ]
  },
  {
   "cell_type": "code",
   "execution_count": 20,
   "metadata": {},
   "outputs": [
    {
     "name": "stdout",
     "output_type": "stream",
     "text": [
      "INFO:tensorflow:Restoring parameters from .\\mysession\n",
      "Test Accuracy = 0.925\n",
      "prediction result of first image:  [ True]\n",
      "prediction result of second image:  [ True]\n",
      "prediction result of third image:  [ True]\n",
      "prediction result of fourth image:  [ True]\n",
      "prediction result of fifth image:  [ True]\n"
     ]
    }
   ],
   "source": [
    "### Run the predictions here and use the model to output the prediction for each image.\n",
    "### Make sure to pre-process the images with the same pre-processing pipeline used earlier.\n",
    "with tf.Session() as sess:\n",
    "    new_saver = tf.train.import_meta_graph(\"mysession.meta\")\n",
    "    new_saver.restore(sess, tf.train.latest_checkpoint('.'))\n",
    "\n",
    "    accuracy = evaluate(X_test,y_test)\n",
    "    print(\"Test Accuracy = {:.3f}\".format(accuracy))\n",
    "    prediction = tf.equal(tf.argmax(logits, 1), tf.argmax(one_hot_y, 1))\n",
    "    result = sess.run(prediction,feed_dict={x:[img1],y:[1]})\n",
    "    print('prediction result of first image: ',result)\n",
    "    result = sess.run(prediction,feed_dict={x:[img3],y:[3]})\n",
    "    print('prediction result of second image: ',result)\n",
    "    result = sess.run(prediction,feed_dict={x:[img11],y:[11]})\n",
    "    print('prediction result of third image: ',result)\n",
    "    result = sess.run(prediction,feed_dict={x:[img35],y:[35]})\n",
    "    print('prediction result of fourth image: ',result)\n",
    "    result = sess.run(prediction,feed_dict={x:[img38],y:[38]})\n",
    "    print('prediction result of fifth image: ',result)"
   ]
  },
  {
   "cell_type": "markdown",
   "metadata": {},
   "source": [
    "### Analyze Performance"
   ]
  },
  {
   "cell_type": "code",
   "execution_count": 22,
   "metadata": {},
   "outputs": [
    {
     "name": "stdout",
     "output_type": "stream",
     "text": [
      "INFO:tensorflow:Restoring parameters from .\\mysession\n",
      "New images test accuracy = 100.000%\n"
     ]
    }
   ],
   "source": [
    "### Calculate the accuracy for these 5 new images. \n",
    "### For example, if the model predicted 1 out of 5 signs correctly, it's 20% accurate on these new images.\n",
    "with tf.Session() as sess:\n",
    "    new_saver = tf.train.import_meta_graph(\"mysession.meta\")\n",
    "    new_saver.restore(sess, tf.train.latest_checkpoint('.'))\n",
    "    accuracy = evaluate(new_X_test,new_y_test)\n",
    "    print(\"New images test accuracy = {:.3f}%\".format(accuracy*100))\n"
   ]
  },
  {
   "cell_type": "markdown",
   "metadata": {},
   "source": [
    "### Output Top 5 Softmax Probabilities For Each Image Found on the Web"
   ]
  },
  {
   "cell_type": "markdown",
   "metadata": {},
   "source": [
    "For each of the new images, print out the model's softmax probabilities to show the **certainty** of the model's predictions (limit the output to the top 5 probabilities for each image). [`tf.nn.top_k`](https://www.tensorflow.org/versions/r0.12/api_docs/python/nn.html#top_k) could prove helpful here. \n",
    "\n",
    "The example below demonstrates how tf.nn.top_k can be used to find the top k predictions for each image.\n",
    "\n",
    "`tf.nn.top_k` will return the values and indices (class ids) of the top k predictions. So if k=3, for each sign, it'll return the 3 largest probabilities (out of a possible 43) and the correspoding class ids.\n",
    "\n",
    "Take this numpy array as an example. The values in the array represent predictions. The array contains softmax probabilities for five candidate images with six possible classes. `tf.nn.top_k` is used to choose the three classes with the highest probability:\n",
    "\n",
    "```\n",
    "# (5, 6) array\n",
    "a = np.array([[ 0.24879643,  0.07032244,  0.12641572,  0.34763842,  0.07893497,\n",
    "         0.12789202],\n",
    "       [ 0.28086119,  0.27569815,  0.08594638,  0.0178669 ,  0.18063401,\n",
    "         0.15899337],\n",
    "       [ 0.26076848,  0.23664738,  0.08020603,  0.07001922,  0.1134371 ,\n",
    "         0.23892179],\n",
    "       [ 0.11943333,  0.29198961,  0.02605103,  0.26234032,  0.1351348 ,\n",
    "         0.16505091],\n",
    "       [ 0.09561176,  0.34396535,  0.0643941 ,  0.16240774,  0.24206137,\n",
    "         0.09155967]])\n",
    "```\n",
    "\n",
    "Running it through `sess.run(tf.nn.top_k(tf.constant(a), k=3))` produces:\n",
    "\n",
    "```\n",
    "TopKV2(values=array([[ 0.34763842,  0.24879643,  0.12789202],\n",
    "       [ 0.28086119,  0.27569815,  0.18063401],\n",
    "       [ 0.26076848,  0.23892179,  0.23664738],\n",
    "       [ 0.29198961,  0.26234032,  0.16505091],\n",
    "       [ 0.34396535,  0.24206137,  0.16240774]]), indices=array([[3, 0, 5],\n",
    "       [0, 1, 4],\n",
    "       [0, 5, 1],\n",
    "       [1, 3, 5],\n",
    "       [1, 4, 3]], dtype=int32))\n",
    "```\n",
    "\n",
    "Looking just at the first row we get `[ 0.34763842,  0.24879643,  0.12789202]`, you can confirm these are the 3 largest probabilities in `a`. You'll also notice `[3, 0, 5]` are the corresponding indices."
   ]
  },
  {
   "cell_type": "code",
   "execution_count": 25,
   "metadata": {},
   "outputs": [
    {
     "name": "stdout",
     "output_type": "stream",
     "text": [
      "INFO:tensorflow:Restoring parameters from .\\mysession\n",
      "TopKV2(values=array([[  9.99933839e-01,   6.23782325e-05,   3.27759949e-06,\n",
      "          4.64077118e-07,   1.56517544e-07],\n",
      "       [  9.82837081e-01,   1.71621814e-02,   7.34060279e-07,\n",
      "          1.79706330e-08,   1.47235624e-09],\n",
      "       [  9.85541403e-01,   1.18939187e-02,   2.46886560e-03,\n",
      "          9.54436255e-05,   5.25370865e-07],\n",
      "       [  9.99999642e-01,   2.60439634e-07,   8.69375327e-08,\n",
      "          1.92123140e-09,   2.29829680e-11],\n",
      "       [  9.99999762e-01,   2.04484422e-07,   8.54978657e-11,\n",
      "          5.45021840e-11,   1.12779881e-11]], dtype=float32), indices=array([[ 1,  0,  5,  4,  2],\n",
      "       [ 3,  2,  5, 31, 19],\n",
      "       [11, 30, 27, 18, 20],\n",
      "       [35, 40, 36, 33, 34],\n",
      "       [38, 40, 36, 34, 12]]))\n"
     ]
    }
   ],
   "source": [
    "### Print out the top five softmax probabilities for the predictions on the German traffic sign images found on the web. \n",
    "### Feel free to use as many code cells as needed.\n",
    "with tf.Session() as sess:\n",
    "    new_saver = tf.train.import_meta_graph(\"mysession.meta\")\n",
    "    new_saver.restore(sess, tf.train.latest_checkpoint('.'))\n",
    "    softmax_propabilities = tf.nn.softmax(logits,-1)\n",
    "    top_five = tf.nn.top_k(softmax_propabilities,k=5)\n",
    "    output = sess.run(top_five,feed_dict={x:new_X_test})\n",
    "    print(output)\n",
    "    \n",
    "    \n"
   ]
  }
 ],
 "metadata": {
  "anaconda-cloud": {},
  "kernelspec": {
   "display_name": "Python 3",
   "language": "python",
   "name": "python3"
  },
  "language_info": {
   "codemirror_mode": {
    "name": "ipython",
    "version": 3
   },
   "file_extension": ".py",
   "mimetype": "text/x-python",
   "name": "python",
   "nbconvert_exporter": "python",
   "pygments_lexer": "ipython3",
   "version": "3.6.3"
  }
 },
 "nbformat": 4,
 "nbformat_minor": 1
}
